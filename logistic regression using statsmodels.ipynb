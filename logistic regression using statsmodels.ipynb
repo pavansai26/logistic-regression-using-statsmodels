{
 "cells": [
  {
   "cell_type": "code",
   "execution_count": 2,
   "metadata": {},
   "outputs": [],
   "source": [
    "import numpy as np\n",
    "import pandas as pd\n",
    "import statsmodels.api as sm\n",
    "import statsmodels.formula.api as smf\n",
    "import seaborn as sns"
   ]
  },
  {
   "cell_type": "code",
   "execution_count": 4,
   "metadata": {},
   "outputs": [],
   "source": [
    "df=sns.load_dataset('iris')"
   ]
  },
  {
   "cell_type": "code",
   "execution_count": 5,
   "metadata": {},
   "outputs": [],
   "source": [
    "x=df.iloc[:,:-1]\n",
    "y=df.iloc[:,-1]"
   ]
  },
  {
   "cell_type": "code",
   "execution_count": 6,
   "metadata": {},
   "outputs": [],
   "source": [
    "from sklearn.model_selection import train_test_split"
   ]
  },
  {
   "cell_type": "code",
   "execution_count": 7,
   "metadata": {},
   "outputs": [],
   "source": [
    "x_train,x_test,y_train,y_test=train_test_split(x,y,test_size=0.3)"
   ]
  },
  {
   "cell_type": "code",
   "execution_count": 14,
   "metadata": {},
   "outputs": [
    {
     "ename": "TypeError",
     "evalue": "'>=' not supported between instances of 'str' and 'int'",
     "output_type": "error",
     "traceback": [
      "\u001b[1;31m---------------------------------------------------------------------------\u001b[0m",
      "\u001b[1;31mTypeError\u001b[0m                                 Traceback (most recent call last)",
      "\u001b[1;32m<ipython-input-14-0f87ece274dc>\u001b[0m in \u001b[0;36m<module>\u001b[1;34m\u001b[0m\n\u001b[1;32m----> 1\u001b[1;33m \u001b[0mmodel\u001b[0m\u001b[1;33m=\u001b[0m\u001b[0msm\u001b[0m\u001b[1;33m.\u001b[0m\u001b[0mLogit\u001b[0m\u001b[1;33m(\u001b[0m\u001b[0mnp\u001b[0m\u001b[1;33m.\u001b[0m\u001b[0marray\u001b[0m\u001b[1;33m(\u001b[0m\u001b[0my_train\u001b[0m\u001b[1;33m)\u001b[0m\u001b[1;33m,\u001b[0m\u001b[0msm\u001b[0m\u001b[1;33m.\u001b[0m\u001b[0madd_constant\u001b[0m\u001b[1;33m(\u001b[0m\u001b[0mnp\u001b[0m\u001b[1;33m.\u001b[0m\u001b[0marray\u001b[0m\u001b[1;33m(\u001b[0m\u001b[0mx_train\u001b[0m\u001b[1;33m)\u001b[0m\u001b[1;33m)\u001b[0m\u001b[1;33m)\u001b[0m\u001b[1;33m\u001b[0m\u001b[1;33m\u001b[0m\u001b[0m\n\u001b[0m",
      "\u001b[1;32m~\\Anaconda3\\lib\\site-packages\\statsmodels\\discrete\\discrete_model.py\u001b[0m in \u001b[0;36m__init__\u001b[1;34m(self, endog, exog, **kwargs)\u001b[0m\n\u001b[0;32m    418\u001b[0m         \u001b[0msuper\u001b[0m\u001b[1;33m(\u001b[0m\u001b[0mBinaryModel\u001b[0m\u001b[1;33m,\u001b[0m \u001b[0mself\u001b[0m\u001b[1;33m)\u001b[0m\u001b[1;33m.\u001b[0m\u001b[0m__init__\u001b[0m\u001b[1;33m(\u001b[0m\u001b[0mendog\u001b[0m\u001b[1;33m,\u001b[0m \u001b[0mexog\u001b[0m\u001b[1;33m,\u001b[0m \u001b[1;33m**\u001b[0m\u001b[0mkwargs\u001b[0m\u001b[1;33m)\u001b[0m\u001b[1;33m\u001b[0m\u001b[1;33m\u001b[0m\u001b[0m\n\u001b[0;32m    419\u001b[0m         if (not issubclass(self.__class__, MultinomialModel) and\n\u001b[1;32m--> 420\u001b[1;33m                 not np.all((self.endog >= 0) & (self.endog <= 1))):\n\u001b[0m\u001b[0;32m    421\u001b[0m             \u001b[1;32mraise\u001b[0m \u001b[0mValueError\u001b[0m\u001b[1;33m(\u001b[0m\u001b[1;34m\"endog must be in the unit interval.\"\u001b[0m\u001b[1;33m)\u001b[0m\u001b[1;33m\u001b[0m\u001b[1;33m\u001b[0m\u001b[0m\n\u001b[0;32m    422\u001b[0m \u001b[1;33m\u001b[0m\u001b[0m\n",
      "\u001b[1;31mTypeError\u001b[0m: '>=' not supported between instances of 'str' and 'int'"
     ]
    }
   ],
   "source": [
    "model=sm.Logit(np.array(y_train),sm.add_constant(np.array(x_train)))"
   ]
  },
  {
   "cell_type": "code",
   "execution_count": 15,
   "metadata": {},
   "outputs": [],
   "source": [
    "from sklearn.datasets import make_classification"
   ]
  },
  {
   "cell_type": "code",
   "execution_count": 26,
   "metadata": {},
   "outputs": [],
   "source": [
    "x,y=make_classification(n_samples=100,\n",
    "    n_features=20,\n",
    "    n_informative=20,\n",
    "    n_redundant=0,\n",
    "    n_repeated=0,\n",
    "    n_classes=4,\n",
    "    n_clusters_per_class=2,\n",
    "    weights=None,\n",
    "    flip_y=0.01,\n",
    "    class_sep=1.0,\n",
    "    hypercube=True,\n",
    "    shift=0.0,\n",
    ")"
   ]
  },
  {
   "cell_type": "code",
   "execution_count": 27,
   "metadata": {},
   "outputs": [
    {
     "data": {
      "text/plain": [
       "array([[ 4.4710482 , -0.12645954,  1.30247818, ..., -2.37159343,\n",
       "        -2.47294554, -1.40306969],\n",
       "       [-3.08379434, -1.19402401,  5.10678772, ..., -0.31835119,\n",
       "         3.91050041,  2.42707227],\n",
       "       [-1.43159863,  4.77582973, -2.51509096, ...,  0.28438896,\n",
       "         0.86721711, -1.45533317],\n",
       "       ...,\n",
       "       [-2.60010179,  1.76684445, -3.97834939, ...,  1.09548439,\n",
       "         1.2399966 , -4.00919889],\n",
       "       [ 0.17100438,  3.0753271 ,  2.39575947, ..., -5.37057302,\n",
       "        -3.02141917, -2.22539949],\n",
       "       [-0.64547231,  2.97026468, -3.13199452, ..., -2.98457794,\n",
       "         5.8025951 , -0.63954647]])"
      ]
     },
     "execution_count": 27,
     "metadata": {},
     "output_type": "execute_result"
    }
   ],
   "source": [
    "x"
   ]
  },
  {
   "cell_type": "code",
   "execution_count": 28,
   "metadata": {},
   "outputs": [
    {
     "data": {
      "text/plain": [
       "array([0, 1, 0, 0, 1, 0, 0, 1, 1, 1, 1, 1, 1, 0, 1, 1, 1, 0, 1, 0, 1, 1,\n",
       "       0, 1, 1, 1, 0, 1, 0, 0, 0, 0, 1, 1, 0, 0, 0, 1, 0, 0, 0, 1, 1, 0,\n",
       "       1, 0, 1, 1, 0, 0, 1, 1, 1, 0, 0, 0, 1, 1, 0, 0, 1, 1, 0, 0, 0, 0,\n",
       "       1, 0, 1, 1, 0, 1, 1, 0, 0, 0, 1, 1, 1, 1, 0, 0, 0, 0, 1, 1, 1, 0,\n",
       "       0, 0, 0, 1, 0, 1, 1, 0, 1, 0, 1, 0])"
      ]
     },
     "execution_count": 28,
     "metadata": {},
     "output_type": "execute_result"
    }
   ],
   "source": [
    "y"
   ]
  },
  {
   "cell_type": "code",
   "execution_count": 29,
   "metadata": {},
   "outputs": [],
   "source": [
    "logi=sm.Logit(y,sm.add_constant(x))"
   ]
  },
  {
   "cell_type": "code",
   "execution_count": 30,
   "metadata": {},
   "outputs": [
    {
     "name": "stdout",
     "output_type": "stream",
     "text": [
      "Optimization terminated successfully.\n",
      "         Current function value: 0.171864\n",
      "         Iterations 10\n"
     ]
    },
    {
     "data": {
      "text/html": [
       "<table class=\"simpletable\">\n",
       "<caption>Logit Regression Results</caption>\n",
       "<tr>\n",
       "  <th>Dep. Variable:</th>         <td>y</td>        <th>  No. Observations:  </th>  <td>   100</td>  \n",
       "</tr>\n",
       "<tr>\n",
       "  <th>Model:</th>               <td>Logit</td>      <th>  Df Residuals:      </th>  <td>    79</td>  \n",
       "</tr>\n",
       "<tr>\n",
       "  <th>Method:</th>               <td>MLE</td>       <th>  Df Model:          </th>  <td>    20</td>  \n",
       "</tr>\n",
       "<tr>\n",
       "  <th>Date:</th>          <td>Wed, 06 Nov 2019</td> <th>  Pseudo R-squ.:     </th>  <td>0.7521</td>  \n",
       "</tr>\n",
       "<tr>\n",
       "  <th>Time:</th>              <td>21:27:17</td>     <th>  Log-Likelihood:    </th> <td> -17.186</td> \n",
       "</tr>\n",
       "<tr>\n",
       "  <th>converged:</th>           <td>True</td>       <th>  LL-Null:           </th> <td> -69.315</td> \n",
       "</tr>\n",
       "<tr>\n",
       "  <th> </th>                      <td> </td>        <th>  LLR p-value:       </th> <td>2.164e-13</td>\n",
       "</tr>\n",
       "</table>\n",
       "<table class=\"simpletable\">\n",
       "<tr>\n",
       "    <td></td>       <th>coef</th>     <th>std err</th>      <th>z</th>      <th>P>|z|</th>  <th>[0.025</th>    <th>0.975]</th>  \n",
       "</tr>\n",
       "<tr>\n",
       "  <th>const</th> <td>   -0.1019</td> <td>    0.820</td> <td>   -0.124</td> <td> 0.901</td> <td>   -1.710</td> <td>    1.506</td>\n",
       "</tr>\n",
       "<tr>\n",
       "  <th>x1</th>    <td>   -1.4914</td> <td>    0.505</td> <td>   -2.951</td> <td> 0.003</td> <td>   -2.482</td> <td>   -0.501</td>\n",
       "</tr>\n",
       "<tr>\n",
       "  <th>x2</th>    <td>   -0.4563</td> <td>    0.303</td> <td>   -1.504</td> <td> 0.133</td> <td>   -1.051</td> <td>    0.138</td>\n",
       "</tr>\n",
       "<tr>\n",
       "  <th>x3</th>    <td>   -0.1177</td> <td>    0.264</td> <td>   -0.446</td> <td> 0.656</td> <td>   -0.635</td> <td>    0.399</td>\n",
       "</tr>\n",
       "<tr>\n",
       "  <th>x4</th>    <td>   -0.1231</td> <td>    0.264</td> <td>   -0.466</td> <td> 0.641</td> <td>   -0.641</td> <td>    0.395</td>\n",
       "</tr>\n",
       "<tr>\n",
       "  <th>x5</th>    <td>    0.8330</td> <td>    0.353</td> <td>    2.363</td> <td> 0.018</td> <td>    0.142</td> <td>    1.524</td>\n",
       "</tr>\n",
       "<tr>\n",
       "  <th>x6</th>    <td>    0.4553</td> <td>    0.318</td> <td>    1.433</td> <td> 0.152</td> <td>   -0.167</td> <td>    1.078</td>\n",
       "</tr>\n",
       "<tr>\n",
       "  <th>x7</th>    <td>   -0.6359</td> <td>    0.363</td> <td>   -1.751</td> <td> 0.080</td> <td>   -1.348</td> <td>    0.076</td>\n",
       "</tr>\n",
       "<tr>\n",
       "  <th>x8</th>    <td>   -0.1379</td> <td>    0.236</td> <td>   -0.585</td> <td> 0.558</td> <td>   -0.600</td> <td>    0.324</td>\n",
       "</tr>\n",
       "<tr>\n",
       "  <th>x9</th>    <td>   -0.3268</td> <td>    0.286</td> <td>   -1.144</td> <td> 0.253</td> <td>   -0.887</td> <td>    0.233</td>\n",
       "</tr>\n",
       "<tr>\n",
       "  <th>x10</th>   <td>   -1.4223</td> <td>    0.513</td> <td>   -2.772</td> <td> 0.006</td> <td>   -2.428</td> <td>   -0.417</td>\n",
       "</tr>\n",
       "<tr>\n",
       "  <th>x11</th>   <td>   -0.6526</td> <td>    0.357</td> <td>   -1.826</td> <td> 0.068</td> <td>   -1.353</td> <td>    0.048</td>\n",
       "</tr>\n",
       "<tr>\n",
       "  <th>x12</th>   <td>   -0.2304</td> <td>    0.269</td> <td>   -0.858</td> <td> 0.391</td> <td>   -0.757</td> <td>    0.296</td>\n",
       "</tr>\n",
       "<tr>\n",
       "  <th>x13</th>   <td>    0.1561</td> <td>    0.290</td> <td>    0.538</td> <td> 0.591</td> <td>   -0.413</td> <td>    0.725</td>\n",
       "</tr>\n",
       "<tr>\n",
       "  <th>x14</th>   <td>    1.2525</td> <td>    0.473</td> <td>    2.651</td> <td> 0.008</td> <td>    0.326</td> <td>    2.179</td>\n",
       "</tr>\n",
       "<tr>\n",
       "  <th>x15</th>   <td>    0.8200</td> <td>    0.393</td> <td>    2.084</td> <td> 0.037</td> <td>    0.049</td> <td>    1.591</td>\n",
       "</tr>\n",
       "<tr>\n",
       "  <th>x16</th>   <td>    0.2345</td> <td>    0.265</td> <td>    0.884</td> <td> 0.376</td> <td>   -0.285</td> <td>    0.754</td>\n",
       "</tr>\n",
       "<tr>\n",
       "  <th>x17</th>   <td>   -0.1861</td> <td>    0.308</td> <td>   -0.605</td> <td> 0.545</td> <td>   -0.789</td> <td>    0.417</td>\n",
       "</tr>\n",
       "<tr>\n",
       "  <th>x18</th>   <td>   -0.7726</td> <td>    0.350</td> <td>   -2.209</td> <td> 0.027</td> <td>   -1.458</td> <td>   -0.087</td>\n",
       "</tr>\n",
       "<tr>\n",
       "  <th>x19</th>   <td>   -0.1566</td> <td>    0.254</td> <td>   -0.618</td> <td> 0.537</td> <td>   -0.654</td> <td>    0.340</td>\n",
       "</tr>\n",
       "<tr>\n",
       "  <th>x20</th>   <td>    1.2031</td> <td>    0.456</td> <td>    2.636</td> <td> 0.008</td> <td>    0.309</td> <td>    2.098</td>\n",
       "</tr>\n",
       "</table><br/><br/>Possibly complete quasi-separation: A fraction 0.27 of observations can be<br/>perfectly predicted. This might indicate that there is complete<br/>quasi-separation. In this case some parameters will not be identified."
      ],
      "text/plain": [
       "<class 'statsmodels.iolib.summary.Summary'>\n",
       "\"\"\"\n",
       "                           Logit Regression Results                           \n",
       "==============================================================================\n",
       "Dep. Variable:                      y   No. Observations:                  100\n",
       "Model:                          Logit   Df Residuals:                       79\n",
       "Method:                           MLE   Df Model:                           20\n",
       "Date:                Wed, 06 Nov 2019   Pseudo R-squ.:                  0.7521\n",
       "Time:                        21:27:17   Log-Likelihood:                -17.186\n",
       "converged:                       True   LL-Null:                       -69.315\n",
       "                                        LLR p-value:                 2.164e-13\n",
       "==============================================================================\n",
       "                 coef    std err          z      P>|z|      [0.025      0.975]\n",
       "------------------------------------------------------------------------------\n",
       "const         -0.1019      0.820     -0.124      0.901      -1.710       1.506\n",
       "x1            -1.4914      0.505     -2.951      0.003      -2.482      -0.501\n",
       "x2            -0.4563      0.303     -1.504      0.133      -1.051       0.138\n",
       "x3            -0.1177      0.264     -0.446      0.656      -0.635       0.399\n",
       "x4            -0.1231      0.264     -0.466      0.641      -0.641       0.395\n",
       "x5             0.8330      0.353      2.363      0.018       0.142       1.524\n",
       "x6             0.4553      0.318      1.433      0.152      -0.167       1.078\n",
       "x7            -0.6359      0.363     -1.751      0.080      -1.348       0.076\n",
       "x8            -0.1379      0.236     -0.585      0.558      -0.600       0.324\n",
       "x9            -0.3268      0.286     -1.144      0.253      -0.887       0.233\n",
       "x10           -1.4223      0.513     -2.772      0.006      -2.428      -0.417\n",
       "x11           -0.6526      0.357     -1.826      0.068      -1.353       0.048\n",
       "x12           -0.2304      0.269     -0.858      0.391      -0.757       0.296\n",
       "x13            0.1561      0.290      0.538      0.591      -0.413       0.725\n",
       "x14            1.2525      0.473      2.651      0.008       0.326       2.179\n",
       "x15            0.8200      0.393      2.084      0.037       0.049       1.591\n",
       "x16            0.2345      0.265      0.884      0.376      -0.285       0.754\n",
       "x17           -0.1861      0.308     -0.605      0.545      -0.789       0.417\n",
       "x18           -0.7726      0.350     -2.209      0.027      -1.458      -0.087\n",
       "x19           -0.1566      0.254     -0.618      0.537      -0.654       0.340\n",
       "x20            1.2031      0.456      2.636      0.008       0.309       2.098\n",
       "==============================================================================\n",
       "\n",
       "Possibly complete quasi-separation: A fraction 0.27 of observations can be\n",
       "perfectly predicted. This might indicate that there is complete\n",
       "quasi-separation. In this case some parameters will not be identified.\n",
       "\"\"\""
      ]
     },
     "execution_count": 30,
     "metadata": {},
     "output_type": "execute_result"
    }
   ],
   "source": [
    "logi.fit().summary()"
   ]
  },
  {
   "cell_type": "markdown",
   "metadata": {},
   "source": [
    "from logit results you can observe 2 tables.1)the first one is about the dataset and the model performances\n",
    "2)2nd one is about the weights of the model"
   ]
  },
  {
   "cell_type": "markdown",
   "metadata": {},
   "source": [
    "<u>converged</u> this tells wheather the classification model has reached convergence while being trained.use the model only if this parameter is true."
   ]
  },
  {
   "cell_type": "markdown",
   "metadata": {},
   "source": [
    "<u>log-likelihood:</u>this the logarithem of the likelihood.it maximizes the our required function."
   ]
  },
  {
   "cell_type": "markdown",
   "metadata": {},
   "source": [
    "<u>LLnull</u>:this is log likelihood when only intercept used as a predictor"
   ]
  },
  {
   "cell_type": "markdown",
   "metadata": {},
   "source": [
    "<u>LLR P-VALUE</u>: this is the chisquared probability of getting log likelihood ratio statically greater than llr.basically it shows how the model is better than guessing with a constant value."
   ]
  },
  {
   "cell_type": "markdown",
   "metadata": {},
   "source": [
    "<u>LLR</u>that is the logarithem of the likelihood of the null model divided by the likelihood of the alternate model(with out null)"
   ]
  },
  {
   "cell_type": "markdown",
   "metadata": {},
   "source": [
    "<u>PSEUDO R SQUARED: this can be seen as the proportion of the total variability un explained by the model.it's computed as <u>[1-loglikelihood/LL-NULL]</u>"
   ]
  },
  {
   "cell_type": "markdown",
   "metadata": {},
   "source": [
    "Z:this is the ratio between the standard error and the coeffiient(it is the statical t value"
   ]
  },
  {
   "cell_type": "markdown",
   "metadata": {},
   "source": [
    "p>|z| this is the probability of obtaining a t value greater than z,while sampling taking from the same population."
   ]
  },
  {
   "cell_type": "markdown",
   "metadata": {},
   "source": []
  },
  {
   "cell_type": "code",
   "execution_count": 31,
   "metadata": {},
   "outputs": [],
   "source": [
    "x,y=make_classification(n_samples=100,\n",
    "    n_features=20,\n",
    "    n_informative=20,\n",
    "    n_redundant=0,\n",
    "    n_repeated=0,\n",
    "    n_classes=4,\n",
    "    n_clusters_per_class=2,\n",
    "    weights=None,\n",
    "    flip_y=0.01,\n",
    "    class_sep=1.0,\n",
    "    hypercube=True,\n",
    "    shift=0.0,\n",
    ")"
   ]
  },
  {
   "cell_type": "code",
   "execution_count": 32,
   "metadata": {},
   "outputs": [
    {
     "data": {
      "text/plain": [
       "array([[ 5.35287132e-03,  5.56928261e+00, -5.27386572e+00, ...,\n",
       "         1.44371208e-01,  3.44082077e-01,  2.61436406e+00],\n",
       "       [-1.68377747e+00, -2.13050003e+00,  1.57393849e+00, ...,\n",
       "         1.27447666e+00,  1.10901150e+00, -1.78217688e+00],\n",
       "       [ 3.59880730e-01,  4.48354669e-01,  1.86860863e+00, ...,\n",
       "         3.70543642e+00, -3.82142956e+00, -3.64523940e+00],\n",
       "       ...,\n",
       "       [-4.10522469e-01,  1.81734431e+00, -5.35148698e-01, ...,\n",
       "         1.02475772e+00, -1.53773098e-01,  2.70040540e-01],\n",
       "       [ 2.11822399e+00,  4.21252542e+00,  1.95272782e-01, ...,\n",
       "         4.65562343e+00,  2.39103022e+00,  3.99196350e+00],\n",
       "       [-3.85096336e+00,  2.17905018e-01,  1.95554082e+00, ...,\n",
       "         6.22276057e-01, -2.06627072e+00, -3.90721895e+00]])"
      ]
     },
     "execution_count": 32,
     "metadata": {},
     "output_type": "execute_result"
    }
   ],
   "source": [
    "x"
   ]
  },
  {
   "cell_type": "code",
   "execution_count": 33,
   "metadata": {},
   "outputs": [
    {
     "data": {
      "text/plain": [
       "array([1, 0, 1, 3, 3, 2, 0, 1, 0, 2, 1, 2, 0, 1, 0, 3, 2, 3, 3, 3, 1, 3,\n",
       "       2, 3, 1, 3, 1, 2, 2, 2, 2, 0, 0, 3, 1, 1, 3, 2, 3, 2, 2, 0, 3, 1,\n",
       "       1, 0, 3, 2, 0, 0, 0, 2, 0, 1, 0, 2, 3, 2, 1, 0, 2, 0, 1, 2, 0, 0,\n",
       "       3, 1, 2, 3, 3, 0, 3, 2, 2, 0, 3, 1, 0, 3, 1, 1, 3, 2, 1, 1, 1, 1,\n",
       "       2, 0, 0, 2, 0, 3, 3, 0, 3, 1, 2, 1])"
      ]
     },
     "execution_count": 33,
     "metadata": {},
     "output_type": "execute_result"
    }
   ],
   "source": [
    "y"
   ]
  },
  {
   "cell_type": "code",
   "execution_count": 34,
   "metadata": {},
   "outputs": [
    {
     "ename": "ValueError",
     "evalue": "endog must be in the unit interval.",
     "output_type": "error",
     "traceback": [
      "\u001b[1;31m---------------------------------------------------------------------------\u001b[0m",
      "\u001b[1;31mValueError\u001b[0m                                Traceback (most recent call last)",
      "\u001b[1;32m<ipython-input-34-e7e0e1a64a3c>\u001b[0m in \u001b[0;36m<module>\u001b[1;34m\u001b[0m\n\u001b[1;32m----> 1\u001b[1;33m \u001b[0mlogi\u001b[0m\u001b[1;33m=\u001b[0m\u001b[0msm\u001b[0m\u001b[1;33m.\u001b[0m\u001b[0mLogit\u001b[0m\u001b[1;33m(\u001b[0m\u001b[0my\u001b[0m\u001b[1;33m,\u001b[0m\u001b[0msm\u001b[0m\u001b[1;33m.\u001b[0m\u001b[0madd_constant\u001b[0m\u001b[1;33m(\u001b[0m\u001b[0mx\u001b[0m\u001b[1;33m)\u001b[0m\u001b[1;33m)\u001b[0m\u001b[1;33m\u001b[0m\u001b[1;33m\u001b[0m\u001b[0m\n\u001b[0m",
      "\u001b[1;32m~\\Anaconda3\\lib\\site-packages\\statsmodels\\discrete\\discrete_model.py\u001b[0m in \u001b[0;36m__init__\u001b[1;34m(self, endog, exog, **kwargs)\u001b[0m\n\u001b[0;32m    419\u001b[0m         if (not issubclass(self.__class__, MultinomialModel) and\n\u001b[0;32m    420\u001b[0m                 not np.all((self.endog >= 0) & (self.endog <= 1))):\n\u001b[1;32m--> 421\u001b[1;33m             \u001b[1;32mraise\u001b[0m \u001b[0mValueError\u001b[0m\u001b[1;33m(\u001b[0m\u001b[1;34m\"endog must be in the unit interval.\"\u001b[0m\u001b[1;33m)\u001b[0m\u001b[1;33m\u001b[0m\u001b[1;33m\u001b[0m\u001b[0m\n\u001b[0m\u001b[0;32m    422\u001b[0m \u001b[1;33m\u001b[0m\u001b[0m\n\u001b[0;32m    423\u001b[0m \u001b[1;33m\u001b[0m\u001b[0m\n",
      "\u001b[1;31mValueError\u001b[0m: endog must be in the unit interval."
     ]
    }
   ],
   "source": [
    "logi=sm.Logit(y,sm.add_constant(x))"
   ]
  },
  {
   "cell_type": "code",
   "execution_count": null,
   "metadata": {},
   "outputs": [],
   "source": []
  }
 ],
 "metadata": {
  "kernelspec": {
   "display_name": "Python 3",
   "language": "python",
   "name": "python3"
  },
  "language_info": {
   "codemirror_mode": {
    "name": "ipython",
    "version": 3
   },
   "file_extension": ".py",
   "mimetype": "text/x-python",
   "name": "python",
   "nbconvert_exporter": "python",
   "pygments_lexer": "ipython3",
   "version": "3.7.3"
  }
 },
 "nbformat": 4,
 "nbformat_minor": 2
}
